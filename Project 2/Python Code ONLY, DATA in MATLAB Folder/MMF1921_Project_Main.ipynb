{
  "cells": [
    {
      "cell_type": "markdown",
      "metadata": {
        "collapsed": false,
        "id": "lgI57__WgMbN"
      },
      "source": [
        "\n",
        "# MMF1921 - Backtesting Template\n",
        "\n",
        "The purpose of this program is to provide a template with which to develop Project 2. The project requires you to test different models  (and/or different model combinations) to create an asset management algorithm.\n",
        "\n",
        "This template will be used by the instructor and TA to assess your trading algorithm using different datasets.\n",
        "\n",
        "# PLEASE DO NOT MODIFY THIS TEMPLATE (for Project submission purposes)\n",
        "\n",
        "# 1. Read input files"
      ]
    },
    {
      "cell_type": "code",
      "execution_count": 3,
      "metadata": {
        "ExecuteTime": {
          "end_time": "2024-03-20T20:29:36.438601400Z",
          "start_time": "2024-03-20T20:29:36.377918500Z"
        },
        "id": "-H5XKzrTgMbR"
      },
      "outputs": [],
      "source": [
        "import time\n",
        "import math\n",
        "from scipy.stats import gmean\n",
        "import matplotlib.pyplot as plt\n",
        "import numpy as np\n",
        "from services.project_function import *\n",
        "import pandas as pd\n",
        "\n",
        "adjClose = pd.read_csv(\"MMF1921_AssetPrices_3.csv\", index_col=0)\n",
        "factorRet = pd.read_csv(\"MMF1921_FactorReturns_3.csv\", index_col=0)"
      ]
    },
    {
      "cell_type": "code",
      "execution_count": 4,
      "metadata": {
        "ExecuteTime": {
          "end_time": "2024-03-20T20:29:36.440587500Z",
          "start_time": "2024-03-20T20:29:36.396917700Z"
        },
        "id": "Y_N9phNMgMbS"
      },
      "outputs": [],
      "source": [
        "adjClose.index = pd.to_datetime(adjClose.index)\n",
        "factorRet.index = pd.to_datetime(factorRet.index)"
      ]
    },
    {
      "cell_type": "code",
      "execution_count": 5,
      "metadata": {
        "ExecuteTime": {
          "end_time": "2024-03-20T20:29:36.470358Z",
          "start_time": "2024-03-20T20:29:36.411919Z"
        },
        "id": "LCgyHAZNgMbS"
      },
      "outputs": [],
      "source": [
        "# Initial budget to invest ($100,000)\n",
        "initialVal = 100000\n",
        "\n",
        "# Length of investment period (in months)\n",
        "investPeriod = 6\n",
        "\n",
        "factorRet = factorRet\n",
        "\n",
        "#rf and factor returns\n",
        "riskFree = factorRet['RF']\n",
        "factorRet = factorRet.loc[:,factorRet.columns != 'RF'];\n"
      ]
    },
    {
      "cell_type": "code",
      "execution_count": 6,
      "metadata": {
        "ExecuteTime": {
          "end_time": "2024-03-20T20:29:36.473235900Z",
          "start_time": "2024-03-20T20:29:36.426396Z"
        },
        "id": "y3tgD3F7gMbT"
      },
      "outputs": [],
      "source": [
        "#Identify the tickers and the dates\n",
        "tickers = adjClose.columns\n",
        "dates   = factorRet.index"
      ]
    },
    {
      "cell_type": "code",
      "execution_count": 7,
      "metadata": {
        "ExecuteTime": {
          "end_time": "2024-03-20T20:29:36.474236800Z",
          "start_time": "2024-03-20T20:29:36.442586800Z"
        },
        "id": "ema-LJbPgMbT"
      },
      "outputs": [],
      "source": [
        "# Calculate the stocks monthly excess returns\n",
        "# pct change and drop the first null observation\n",
        "returns = adjClose.pct_change(1).iloc[1:, :]\n",
        "returns = returns  - np.diag(riskFree.values) @ np.ones_like(returns.values)\n",
        "# Align the price table to the asset and factor returns tables by discarding the first observation.\n",
        "adjClose = adjClose.iloc[1:,:]"
      ]
    },
    {
      "cell_type": "code",
      "execution_count": 8,
      "metadata": {
        "ExecuteTime": {
          "end_time": "2024-03-20T20:29:36.487236200Z",
          "start_time": "2024-03-20T20:29:36.458587500Z"
        },
        "id": "TQMSIo2pgMbT"
      },
      "outputs": [],
      "source": [
        "assert adjClose.index[0] == returns.index[0]\n",
        "assert adjClose.index[0] == factorRet.index[0]"
      ]
    },
    {
      "cell_type": "markdown",
      "metadata": {
        "collapsed": false,
        "id": "C0hZGO1FgMbU"
      },
      "source": [
        "# 2. Run your program\n",
        "\n",
        "This section will run your Project1_Function in a loop. The data will be loaded progressively as a growing window of historical observations.\n",
        "Rebalancing will take place after every loop"
      ]
    },
    {
      "cell_type": "code",
      "execution_count": 9,
      "metadata": {
        "ExecuteTime": {
          "end_time": "2024-03-20T20:29:36.659439300Z",
          "start_time": "2024-03-20T20:29:36.478235300Z"
        },
        "id": "qCe2ZZ-GgMbU"
      },
      "outputs": [],
      "source": [
        "# Start of out-of-sample test period\n",
        "testStart = returns.index[0] + pd.offsets.DateOffset(years=5)\n",
        "\n",
        "#End of the first investment period\n",
        "testEnd = testStart + pd.offsets.DateOffset(months=investPeriod) -  pd.offsets.DateOffset(days = 1)\n",
        "\n",
        "# End of calibration period\n",
        "calEnd = testStart -  pd.offsets.DateOffset(days = 1)\n",
        "\n",
        "# Total number of investment periods\n",
        "NoPeriods = math.ceil((returns.index[-1].to_period('M') - testStart.to_period('M')).n / investPeriod)\n",
        "\n",
        "# Number of assets\n",
        "n  = len(tickers)\n",
        "\n",
        "# Preallocate space for the portfolio weights (x0 will be used to calculate\n",
        "# the turnover rate)\n",
        "x  = np.zeros([n, NoPeriods])\n",
        "x0 = np.zeros([n, NoPeriods])\n",
        "\n",
        "# Preallocate space for the portfolio per period value and turnover\n",
        "currentVal = np.zeros([NoPeriods, 1])\n",
        "turnover   = np.zeros([NoPeriods, 1])\n",
        "\n",
        "#Initiate counter for the number of observations per investment period\n",
        "toDay = 0\n",
        "\n",
        "# Measure runtime: start the clock\n",
        "start_time = time.time()\n",
        "\n",
        "# Empty list to measure the value of the portfolio over the period\n",
        "portfValue = []\n",
        "\n",
        "for t in range(NoPeriods):\n",
        "    # Subset the returns and factor returns corresponding to the current calibration period.\n",
        "    periodReturns = returns[returns.index <= calEnd]\n",
        "    periodFactRet = factorRet[factorRet.index <= calEnd]\n",
        "\n",
        "    current_price_idx = (calEnd - pd.offsets.DateOffset(months=1) <= adjClose.index)&(adjClose.index <= calEnd)\n",
        "    currentPrices = adjClose[current_price_idx]\n",
        "\n",
        "    # Subset the prices corresponding to the current out-of-sample test period.\n",
        "    periodPrices_idx = (testStart <= adjClose.index)&(adjClose.index <= testEnd)\n",
        "    periodPrices = adjClose[periodPrices_idx]\n",
        "\n",
        "    assert len(periodPrices) == investPeriod\n",
        "    assert len(currentPrices) == 1\n",
        "    # Set the initial value of the portfolio or update the portfolio value\n",
        "    if t == 0:\n",
        "        currentVal[0] = initialVal\n",
        "    else:\n",
        "        currentVal[t] = currentPrices @  NoShares.values.T\n",
        "        #Store the current asset weights (before optimization takes place)\n",
        "        x0[:,t] = currentPrices.values*NoShares.values/currentVal[t]\n",
        "\n",
        "    #----------------------------------------------------------------------\n",
        "    # Portfolio optimization\n",
        "    # You must write code your own algorithmic trading function\n",
        "    # The project function is in the services folder\n",
        "    # Take in the period returns and period factor returns and produce\n",
        "    # an allocation\n",
        "    #----------------------------------------------------------------------\n",
        "    x[:,t] = project_function(periodReturns, periodFactRet, x0)\n",
        "\n",
        "    #Calculate the turnover rate\n",
        "    if t > 0:\n",
        "        turnover[t] = np.sum( np.abs( x[:,t] - x0[:,t] ) )\n",
        "\n",
        "    # Number of shares your portfolio holds per stock\n",
        "    NoShares = x[:,t]*currentVal[t]/currentPrices\n",
        "\n",
        "    # Update counter for the number of observations per investment period\n",
        "    fromDay = toDay\n",
        "    toDay   = toDay + len(periodPrices)\n",
        "\n",
        "    # Weekly portfolio value during the out-of-sample window\n",
        "    portfValue.append(periodPrices@ NoShares.values.T)\n",
        "\n",
        "    # Update your calibration and out-of-sample test periods\n",
        "    testStart = testStart + pd.offsets.DateOffset(months=investPeriod)\n",
        "    testEnd   = testStart + pd.offsets.DateOffset(months=investPeriod) - pd.offsets.DateOffset(days=1)\n",
        "    calEnd    = testStart - pd.offsets.DateOffset(days=1)\n",
        "\n",
        "portfValue = pd.concat(portfValue, axis = 0)\n",
        "end_time = time.time()"
      ]
    },
    {
      "cell_type": "markdown",
      "metadata": {
        "collapsed": false,
        "id": "Vc5_c6mdgMbU"
      },
      "source": [
        "# 3. Results"
      ]
    },
    {
      "cell_type": "code",
      "execution_count": 10,
      "metadata": {
        "ExecuteTime": {
          "end_time": "2024-03-20T20:29:36.673061Z",
          "start_time": "2024-03-20T20:29:36.658439800Z"
        },
        "id": "B8lFFx6wgMbU",
        "outputId": "50fb4f85-5b81-464d-8837-6338d0253b60"
      },
      "outputs": [
        {
          "name": "stdout",
          "output_type": "stream",
          "text": [
            "Elasped time is 45.88849997520447 seconds\n",
            "Sharpe ratio:  0.18148782097909255\n",
            "Avg. turnover:  0.13791444792098329\n"
          ]
        }
      ],
      "source": [
        "#--------------------------------------------------------------------------\n",
        "# 3.1 Calculate the portfolio average return, standard deviation, Sharpe ratio and average turnover.\n",
        "#-----------------------------------------------------------------------\n",
        "# Calculate the observed portfolio returns\n",
        "portfRets = portfValue.pct_change(1).iloc[1:,:]\n",
        "\n",
        "# Calculate the portfolio excess returns\n",
        "portfExRets = portfRets.subtract(riskFree[(riskFree.index >= portfRets.index[0])&(riskFree.index <= portfRets.index[-1])], axis = 0)\n",
        "\n",
        "# Calculate the portfolio Sharpe ratio\n",
        "SR = ((portfExRets + 1).apply(gmean, axis=0) - 1)/portfExRets.std()\n",
        "\n",
        "# Calculate the average turnover rate\n",
        "avgTurnover = np.mean(turnover[1:])\n",
        "\n",
        "#Print Sharpe ratio and Avg. turnover to the console\n",
        "print(\"Elasped time is \"+ str(end_time - start_time) + ' seconds')\n",
        "print('Sharpe ratio: ', str(SR[0]))\n",
        "print('Avg. turnover: ', str(avgTurnover))"
      ]
    },
    {
      "cell_type": "code",
      "execution_count": 11,
      "metadata": {
        "ExecuteTime": {
          "end_time": "2024-03-20T20:29:37.254207300Z",
          "start_time": "2024-03-20T20:29:36.675062200Z"
        },
        "id": "MNSU8plpgMbV",
        "outputId": "d7cdd188-edfe-482c-a871-4dead8923348"
      },
      "outputs": [
        {
          "ename": "FileNotFoundError",
          "evalue": "[Errno 2] No such file or directory: 'images/wealth.svg'",
          "output_type": "error",
          "traceback": [
            "\u001b[0;31m---------------------------------------------------------------------------\u001b[0m",
            "\u001b[0;31mFileNotFoundError\u001b[0m                         Traceback (most recent call last)",
            "Cell \u001b[0;32mIn[11], line 11\u001b[0m\n\u001b[1;32m      6\u001b[0m fig \u001b[38;5;241m=\u001b[39m plt\u001b[38;5;241m.\u001b[39mfigure(\u001b[38;5;241m1\u001b[39m)\n\u001b[1;32m      7\u001b[0m portfValue\u001b[38;5;241m.\u001b[39mplot(title \u001b[38;5;241m=\u001b[39m \u001b[38;5;124m'\u001b[39m\u001b[38;5;124mPortfolio wealth evolution\u001b[39m\u001b[38;5;124m'\u001b[39m,\n\u001b[1;32m      8\u001b[0m                 ylabel \u001b[38;5;241m=\u001b[39m \u001b[38;5;124m'\u001b[39m\u001b[38;5;124mTotal wealth\u001b[39m\u001b[38;5;124m'\u001b[39m,\n\u001b[1;32m      9\u001b[0m                 figsize \u001b[38;5;241m=\u001b[39m (\u001b[38;5;241m6\u001b[39m, \u001b[38;5;241m3\u001b[39m),\n\u001b[1;32m     10\u001b[0m                 legend \u001b[38;5;241m=\u001b[39m \u001b[38;5;28;01mFalse\u001b[39;00m)\n\u001b[0;32m---> 11\u001b[0m \u001b[43mplt\u001b[49m\u001b[38;5;241;43m.\u001b[39;49m\u001b[43msavefig\u001b[49m\u001b[43m(\u001b[49m\u001b[38;5;124;43m\"\u001b[39;49m\u001b[38;5;124;43mimages/wealth.svg\u001b[39;49m\u001b[38;5;124;43m\"\u001b[39;49m\u001b[43m)\u001b[49m\n\u001b[1;32m     13\u001b[0m \u001b[38;5;66;03m#--------------------------------------------------------------------------\u001b[39;00m\n\u001b[1;32m     14\u001b[0m \u001b[38;5;66;03m# 3.3 Portfolio weights plot\u001b[39;00m\n\u001b[1;32m     15\u001b[0m \u001b[38;5;66;03m#--------------------------------------------------------------------------\u001b[39;00m\n\u001b[1;32m     16\u001b[0m \u001b[38;5;66;03m# Portfolio weights\u001b[39;00m\n\u001b[1;32m     18\u001b[0m fig2 \u001b[38;5;241m=\u001b[39m plt\u001b[38;5;241m.\u001b[39mfigure(\u001b[38;5;241m2\u001b[39m);\n",
            "File \u001b[0;32m/Library/Frameworks/Python.framework/Versions/3.10/lib/python3.10/site-packages/matplotlib/pyplot.py:1228\u001b[0m, in \u001b[0;36msavefig\u001b[0;34m(*args, **kwargs)\u001b[0m\n\u001b[1;32m   1225\u001b[0m fig \u001b[38;5;241m=\u001b[39m gcf()\n\u001b[1;32m   1226\u001b[0m \u001b[38;5;66;03m# savefig default implementation has no return, so mypy is unhappy\u001b[39;00m\n\u001b[1;32m   1227\u001b[0m \u001b[38;5;66;03m# presumably this is here because subclasses can return?\u001b[39;00m\n\u001b[0;32m-> 1228\u001b[0m res \u001b[38;5;241m=\u001b[39m \u001b[43mfig\u001b[49m\u001b[38;5;241;43m.\u001b[39;49m\u001b[43msavefig\u001b[49m\u001b[43m(\u001b[49m\u001b[38;5;241;43m*\u001b[39;49m\u001b[43margs\u001b[49m\u001b[43m,\u001b[49m\u001b[43m \u001b[49m\u001b[38;5;241;43m*\u001b[39;49m\u001b[38;5;241;43m*\u001b[39;49m\u001b[43mkwargs\u001b[49m\u001b[43m)\u001b[49m  \u001b[38;5;66;03m# type: ignore[func-returns-value]\u001b[39;00m\n\u001b[1;32m   1229\u001b[0m fig\u001b[38;5;241m.\u001b[39mcanvas\u001b[38;5;241m.\u001b[39mdraw_idle()  \u001b[38;5;66;03m# Need this if 'transparent=True', to reset colors.\u001b[39;00m\n\u001b[1;32m   1230\u001b[0m \u001b[38;5;28;01mreturn\u001b[39;00m res\n",
            "File \u001b[0;32m/Library/Frameworks/Python.framework/Versions/3.10/lib/python3.10/site-packages/matplotlib/figure.py:3395\u001b[0m, in \u001b[0;36mFigure.savefig\u001b[0;34m(self, fname, transparent, **kwargs)\u001b[0m\n\u001b[1;32m   3393\u001b[0m     \u001b[38;5;28;01mfor\u001b[39;00m ax \u001b[38;5;129;01min\u001b[39;00m \u001b[38;5;28mself\u001b[39m\u001b[38;5;241m.\u001b[39maxes:\n\u001b[1;32m   3394\u001b[0m         _recursively_make_axes_transparent(stack, ax)\n\u001b[0;32m-> 3395\u001b[0m \u001b[38;5;28;43mself\u001b[39;49m\u001b[38;5;241;43m.\u001b[39;49m\u001b[43mcanvas\u001b[49m\u001b[38;5;241;43m.\u001b[39;49m\u001b[43mprint_figure\u001b[49m\u001b[43m(\u001b[49m\u001b[43mfname\u001b[49m\u001b[43m,\u001b[49m\u001b[43m \u001b[49m\u001b[38;5;241;43m*\u001b[39;49m\u001b[38;5;241;43m*\u001b[39;49m\u001b[43mkwargs\u001b[49m\u001b[43m)\u001b[49m\n",
            "File \u001b[0;32m/Library/Frameworks/Python.framework/Versions/3.10/lib/python3.10/site-packages/matplotlib/backend_bases.py:2204\u001b[0m, in \u001b[0;36mFigureCanvasBase.print_figure\u001b[0;34m(self, filename, dpi, facecolor, edgecolor, orientation, format, bbox_inches, pad_inches, bbox_extra_artists, backend, **kwargs)\u001b[0m\n\u001b[1;32m   2200\u001b[0m \u001b[38;5;28;01mtry\u001b[39;00m:\n\u001b[1;32m   2201\u001b[0m     \u001b[38;5;66;03m# _get_renderer may change the figure dpi (as vector formats\u001b[39;00m\n\u001b[1;32m   2202\u001b[0m     \u001b[38;5;66;03m# force the figure dpi to 72), so we need to set it again here.\u001b[39;00m\n\u001b[1;32m   2203\u001b[0m     \u001b[38;5;28;01mwith\u001b[39;00m cbook\u001b[38;5;241m.\u001b[39m_setattr_cm(\u001b[38;5;28mself\u001b[39m\u001b[38;5;241m.\u001b[39mfigure, dpi\u001b[38;5;241m=\u001b[39mdpi):\n\u001b[0;32m-> 2204\u001b[0m         result \u001b[38;5;241m=\u001b[39m \u001b[43mprint_method\u001b[49m\u001b[43m(\u001b[49m\n\u001b[1;32m   2205\u001b[0m \u001b[43m            \u001b[49m\u001b[43mfilename\u001b[49m\u001b[43m,\u001b[49m\n\u001b[1;32m   2206\u001b[0m \u001b[43m            \u001b[49m\u001b[43mfacecolor\u001b[49m\u001b[38;5;241;43m=\u001b[39;49m\u001b[43mfacecolor\u001b[49m\u001b[43m,\u001b[49m\n\u001b[1;32m   2207\u001b[0m \u001b[43m            \u001b[49m\u001b[43medgecolor\u001b[49m\u001b[38;5;241;43m=\u001b[39;49m\u001b[43medgecolor\u001b[49m\u001b[43m,\u001b[49m\n\u001b[1;32m   2208\u001b[0m \u001b[43m            \u001b[49m\u001b[43morientation\u001b[49m\u001b[38;5;241;43m=\u001b[39;49m\u001b[43morientation\u001b[49m\u001b[43m,\u001b[49m\n\u001b[1;32m   2209\u001b[0m \u001b[43m            \u001b[49m\u001b[43mbbox_inches_restore\u001b[49m\u001b[38;5;241;43m=\u001b[39;49m\u001b[43m_bbox_inches_restore\u001b[49m\u001b[43m,\u001b[49m\n\u001b[1;32m   2210\u001b[0m \u001b[43m            \u001b[49m\u001b[38;5;241;43m*\u001b[39;49m\u001b[38;5;241;43m*\u001b[39;49m\u001b[43mkwargs\u001b[49m\u001b[43m)\u001b[49m\n\u001b[1;32m   2211\u001b[0m \u001b[38;5;28;01mfinally\u001b[39;00m:\n\u001b[1;32m   2212\u001b[0m     \u001b[38;5;28;01mif\u001b[39;00m bbox_inches \u001b[38;5;129;01mand\u001b[39;00m restore_bbox:\n",
            "File \u001b[0;32m/Library/Frameworks/Python.framework/Versions/3.10/lib/python3.10/site-packages/matplotlib/backend_bases.py:2054\u001b[0m, in \u001b[0;36mFigureCanvasBase._switch_canvas_and_return_print_method.<locals>.<lambda>\u001b[0;34m(*args, **kwargs)\u001b[0m\n\u001b[1;32m   2050\u001b[0m     optional_kws \u001b[38;5;241m=\u001b[39m {  \u001b[38;5;66;03m# Passed by print_figure for other renderers.\u001b[39;00m\n\u001b[1;32m   2051\u001b[0m         \u001b[38;5;124m\"\u001b[39m\u001b[38;5;124mdpi\u001b[39m\u001b[38;5;124m\"\u001b[39m, \u001b[38;5;124m\"\u001b[39m\u001b[38;5;124mfacecolor\u001b[39m\u001b[38;5;124m\"\u001b[39m, \u001b[38;5;124m\"\u001b[39m\u001b[38;5;124medgecolor\u001b[39m\u001b[38;5;124m\"\u001b[39m, \u001b[38;5;124m\"\u001b[39m\u001b[38;5;124morientation\u001b[39m\u001b[38;5;124m\"\u001b[39m,\n\u001b[1;32m   2052\u001b[0m         \u001b[38;5;124m\"\u001b[39m\u001b[38;5;124mbbox_inches_restore\u001b[39m\u001b[38;5;124m\"\u001b[39m}\n\u001b[1;32m   2053\u001b[0m     skip \u001b[38;5;241m=\u001b[39m optional_kws \u001b[38;5;241m-\u001b[39m {\u001b[38;5;241m*\u001b[39minspect\u001b[38;5;241m.\u001b[39msignature(meth)\u001b[38;5;241m.\u001b[39mparameters}\n\u001b[0;32m-> 2054\u001b[0m     print_method \u001b[38;5;241m=\u001b[39m functools\u001b[38;5;241m.\u001b[39mwraps(meth)(\u001b[38;5;28;01mlambda\u001b[39;00m \u001b[38;5;241m*\u001b[39margs, \u001b[38;5;241m*\u001b[39m\u001b[38;5;241m*\u001b[39mkwargs: \u001b[43mmeth\u001b[49m\u001b[43m(\u001b[49m\n\u001b[1;32m   2055\u001b[0m \u001b[43m        \u001b[49m\u001b[38;5;241;43m*\u001b[39;49m\u001b[43margs\u001b[49m\u001b[43m,\u001b[49m\u001b[43m \u001b[49m\u001b[38;5;241;43m*\u001b[39;49m\u001b[38;5;241;43m*\u001b[39;49m\u001b[43m{\u001b[49m\u001b[43mk\u001b[49m\u001b[43m:\u001b[49m\u001b[43m \u001b[49m\u001b[43mv\u001b[49m\u001b[43m \u001b[49m\u001b[38;5;28;43;01mfor\u001b[39;49;00m\u001b[43m \u001b[49m\u001b[43mk\u001b[49m\u001b[43m,\u001b[49m\u001b[43m \u001b[49m\u001b[43mv\u001b[49m\u001b[43m \u001b[49m\u001b[38;5;129;43;01min\u001b[39;49;00m\u001b[43m \u001b[49m\u001b[43mkwargs\u001b[49m\u001b[38;5;241;43m.\u001b[39;49m\u001b[43mitems\u001b[49m\u001b[43m(\u001b[49m\u001b[43m)\u001b[49m\u001b[43m \u001b[49m\u001b[38;5;28;43;01mif\u001b[39;49;00m\u001b[43m \u001b[49m\u001b[43mk\u001b[49m\u001b[43m \u001b[49m\u001b[38;5;129;43;01mnot\u001b[39;49;00m\u001b[43m \u001b[49m\u001b[38;5;129;43;01min\u001b[39;49;00m\u001b[43m \u001b[49m\u001b[43mskip\u001b[49m\u001b[43m}\u001b[49m\u001b[43m)\u001b[49m)\n\u001b[1;32m   2056\u001b[0m \u001b[38;5;28;01melse\u001b[39;00m:  \u001b[38;5;66;03m# Let third-parties do as they see fit.\u001b[39;00m\n\u001b[1;32m   2057\u001b[0m     print_method \u001b[38;5;241m=\u001b[39m meth\n",
            "File \u001b[0;32m/Library/Frameworks/Python.framework/Versions/3.10/lib/python3.10/site-packages/matplotlib/backends/backend_svg.py:1328\u001b[0m, in \u001b[0;36mFigureCanvasSVG.print_svg\u001b[0;34m(self, filename, bbox_inches_restore, metadata)\u001b[0m\n\u001b[1;32m   1296\u001b[0m \u001b[38;5;28;01mdef\u001b[39;00m \u001b[38;5;21mprint_svg\u001b[39m(\u001b[38;5;28mself\u001b[39m, filename, \u001b[38;5;241m*\u001b[39m, bbox_inches_restore\u001b[38;5;241m=\u001b[39m\u001b[38;5;28;01mNone\u001b[39;00m, metadata\u001b[38;5;241m=\u001b[39m\u001b[38;5;28;01mNone\u001b[39;00m):\n\u001b[1;32m   1297\u001b[0m \u001b[38;5;250m    \u001b[39m\u001b[38;5;124;03m\"\"\"\u001b[39;00m\n\u001b[1;32m   1298\u001b[0m \u001b[38;5;124;03m    Parameters\u001b[39;00m\n\u001b[1;32m   1299\u001b[0m \u001b[38;5;124;03m    ----------\u001b[39;00m\n\u001b[0;32m   (...)\u001b[0m\n\u001b[1;32m   1326\u001b[0m \u001b[38;5;124;03m        __ DC_\u001b[39;00m\n\u001b[1;32m   1327\u001b[0m \u001b[38;5;124;03m    \"\"\"\u001b[39;00m\n\u001b[0;32m-> 1328\u001b[0m     \u001b[38;5;28;01mwith\u001b[39;00m \u001b[43mcbook\u001b[49m\u001b[38;5;241;43m.\u001b[39;49m\u001b[43mopen_file_cm\u001b[49m\u001b[43m(\u001b[49m\u001b[43mfilename\u001b[49m\u001b[43m,\u001b[49m\u001b[43m \u001b[49m\u001b[38;5;124;43m\"\u001b[39;49m\u001b[38;5;124;43mw\u001b[39;49m\u001b[38;5;124;43m\"\u001b[39;49m\u001b[43m,\u001b[49m\u001b[43m \u001b[49m\u001b[43mencoding\u001b[49m\u001b[38;5;241;43m=\u001b[39;49m\u001b[38;5;124;43m\"\u001b[39;49m\u001b[38;5;124;43mutf-8\u001b[39;49m\u001b[38;5;124;43m\"\u001b[39;49m\u001b[43m)\u001b[49m \u001b[38;5;28;01mas\u001b[39;00m fh:\n\u001b[1;32m   1329\u001b[0m         \u001b[38;5;28;01mif\u001b[39;00m \u001b[38;5;129;01mnot\u001b[39;00m cbook\u001b[38;5;241m.\u001b[39mfile_requires_unicode(fh):\n\u001b[1;32m   1330\u001b[0m             fh \u001b[38;5;241m=\u001b[39m codecs\u001b[38;5;241m.\u001b[39mgetwriter(\u001b[38;5;124m'\u001b[39m\u001b[38;5;124mutf-8\u001b[39m\u001b[38;5;124m'\u001b[39m)(fh)\n",
            "File \u001b[0;32m/Library/Frameworks/Python.framework/Versions/3.10/lib/python3.10/site-packages/matplotlib/cbook.py:497\u001b[0m, in \u001b[0;36mopen_file_cm\u001b[0;34m(path_or_file, mode, encoding)\u001b[0m\n\u001b[1;32m    495\u001b[0m \u001b[38;5;28;01mdef\u001b[39;00m \u001b[38;5;21mopen_file_cm\u001b[39m(path_or_file, mode\u001b[38;5;241m=\u001b[39m\u001b[38;5;124m\"\u001b[39m\u001b[38;5;124mr\u001b[39m\u001b[38;5;124m\"\u001b[39m, encoding\u001b[38;5;241m=\u001b[39m\u001b[38;5;28;01mNone\u001b[39;00m):\n\u001b[1;32m    496\u001b[0m \u001b[38;5;250m    \u001b[39m\u001b[38;5;124mr\u001b[39m\u001b[38;5;124;03m\"\"\"Pass through file objects and context-manage path-likes.\"\"\"\u001b[39;00m\n\u001b[0;32m--> 497\u001b[0m     fh, opened \u001b[38;5;241m=\u001b[39m \u001b[43mto_filehandle\u001b[49m\u001b[43m(\u001b[49m\u001b[43mpath_or_file\u001b[49m\u001b[43m,\u001b[49m\u001b[43m \u001b[49m\u001b[43mmode\u001b[49m\u001b[43m,\u001b[49m\u001b[43m \u001b[49m\u001b[38;5;28;43;01mTrue\u001b[39;49;00m\u001b[43m,\u001b[49m\u001b[43m \u001b[49m\u001b[43mencoding\u001b[49m\u001b[43m)\u001b[49m\n\u001b[1;32m    498\u001b[0m     \u001b[38;5;28;01mreturn\u001b[39;00m fh \u001b[38;5;28;01mif\u001b[39;00m opened \u001b[38;5;28;01melse\u001b[39;00m contextlib\u001b[38;5;241m.\u001b[39mnullcontext(fh)\n",
            "File \u001b[0;32m/Library/Frameworks/Python.framework/Versions/3.10/lib/python3.10/site-packages/matplotlib/cbook.py:483\u001b[0m, in \u001b[0;36mto_filehandle\u001b[0;34m(fname, flag, return_opened, encoding)\u001b[0m\n\u001b[1;32m    481\u001b[0m         fh \u001b[38;5;241m=\u001b[39m bz2\u001b[38;5;241m.\u001b[39mBZ2File(fname, flag)\n\u001b[1;32m    482\u001b[0m     \u001b[38;5;28;01melse\u001b[39;00m:\n\u001b[0;32m--> 483\u001b[0m         fh \u001b[38;5;241m=\u001b[39m \u001b[38;5;28;43mopen\u001b[39;49m\u001b[43m(\u001b[49m\u001b[43mfname\u001b[49m\u001b[43m,\u001b[49m\u001b[43m \u001b[49m\u001b[43mflag\u001b[49m\u001b[43m,\u001b[49m\u001b[43m \u001b[49m\u001b[43mencoding\u001b[49m\u001b[38;5;241;43m=\u001b[39;49m\u001b[43mencoding\u001b[49m\u001b[43m)\u001b[49m\n\u001b[1;32m    484\u001b[0m     opened \u001b[38;5;241m=\u001b[39m \u001b[38;5;28;01mTrue\u001b[39;00m\n\u001b[1;32m    485\u001b[0m \u001b[38;5;28;01melif\u001b[39;00m \u001b[38;5;28mhasattr\u001b[39m(fname, \u001b[38;5;124m'\u001b[39m\u001b[38;5;124mseek\u001b[39m\u001b[38;5;124m'\u001b[39m):\n",
            "\u001b[0;31mFileNotFoundError\u001b[0m: [Errno 2] No such file or directory: 'images/wealth.svg'"
          ]
        },
        {
          "data": {
            "text/plain": [
              "<Figure size 640x480 with 0 Axes>"
            ]
          },
          "metadata": {},
          "output_type": "display_data"
        },
        {
          "data": {
            "image/png": "[encoded data removed]",
            "text/plain": [
              "<Figure size 600x300 with 1 Axes>"
            ]
          },
          "metadata": {},
          "output_type": "display_data"
        }
      ],
      "source": [
        "#--------------------------------------------------------------------------\n",
        "# 3.2 Portfolio wealth evolution plot\n",
        "#--------------------------------------------------------------------------\n",
        "# Calculate the dates of the out-of-sample period\n",
        "\n",
        "fig = plt.figure(1)\n",
        "portfValue.plot(title = 'Portfolio wealth evolution',\n",
        "                ylabel = 'Total wealth',\n",
        "                figsize = (6, 3),\n",
        "                legend = False)\n",
        "plt.savefig(\"images/wealth.svg\")\n",
        "\n",
        "#--------------------------------------------------------------------------\n",
        "# 3.3 Portfolio weights plot\n",
        "#--------------------------------------------------------------------------\n",
        "# Portfolio weights\n",
        "\n",
        "fig2 = plt.figure(2);\n",
        "x[x < 0] = 0\n",
        "weights = pd.DataFrame(x, index = tickers)\n",
        "weights.columns = [col + 1 for col in weights.columns]\n",
        "weights[(weights > 0).any(axis=1)].T.plot.area(title = 'Portfolio weights',\n",
        "                  ylabel = 'Weights', xlabel = 'Rebalance Period',\n",
        "                  figsize = (6, 3),\n",
        "                  legend = True, stacked = True)\n",
        "plt.legend(loc='center left', bbox_to_anchor=(1.0, 0.5))\n",
        "plt.savefig(\"images/weights.svg\");\n",
        "#\n",
        "# %%%%%%%%%%%%%%%%%%%%%%%%%%%%%%%%%%%%%%%%%%%%%%%%%%%%%%%%%%%%%%%%%%%%%%%%%%%\n",
        "# % Program End"
      ]
    }
  ],
  "metadata": {
    "colab": {
      "provenance": []
    },
    "kernelspec": {
      "display_name": "Python 3",
      "language": "python",
      "name": "python3"
    },
    "language_info": {
      "codemirror_mode": {
        "name": "ipython",
        "version": 3
      },
      "file_extension": ".py",
      "mimetype": "text/x-python",
      "name": "python",
      "nbconvert_exporter": "python",
      "pygments_lexer": "ipython3",
      "version": "3.10.7"
    }
  },
  "nbformat": 4,
  "nbformat_minor": 0
}
